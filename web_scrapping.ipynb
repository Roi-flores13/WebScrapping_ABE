{
 "cells": [
  {
   "cell_type": "code",
   "execution_count": 61,
   "metadata": {},
   "outputs": [],
   "source": [
    "from bs4 import BeautifulSoup\n",
    "import requests\n",
    "from selenium.webdriver import Chrome\n",
    "from selenium.webdriver.common.by import By\n",
    "from selenium.webdriver import ChromeOptions\n",
    "from selenium import webdriver\n",
    "from selenium.webdriver.chrome.options import Options"
   ]
  },
  {
   "cell_type": "code",
   "execution_count": 62,
   "metadata": {},
   "outputs": [],
   "source": [
    "URL = \"https://fibalivestats.dcd.shared.geniussports.com/u/ABE/2310604/bs.html#ASFSK\"\n",
    "page = requests.get(URL)\n",
    "soup = BeautifulSoup(page.text, \"html\")"
   ]
  },
  {
   "cell_type": "code",
   "execution_count": 63,
   "metadata": {},
   "outputs": [],
   "source": [
    "def flatten_and_append(data, new_list=None):\n",
    "  if new_list is None:\n",
    "    new_list = []\n",
    "  \n",
    "  for item in data:\n",
    "    if isinstance(item, list):\n",
    "      new_list = flatten_and_append(item, new_list)\n",
    "    else:\n",
    "      new_list.append(item)\n",
    "\n",
    "  return new_list"
   ]
  },
  {
   "cell_type": "code",
   "execution_count": 64,
   "metadata": {},
   "outputs": [],
   "source": [
    "def selenium_extractor_bench(URL):\n",
    "    \n",
    "    options = Options()\n",
    "    options.add_argument(\"--headless\") \n",
    "    driver = webdriver.Chrome(options=options)\n",
    "    driver.get(URL)\n",
    "    \n",
    "    element_bench = driver.find_elements(By.CLASS_NAME, \"bench\")\n",
    "    player_stats_bench = element_bench[0].text\n",
    "    \n",
    "    return player_stats_bench"
   ]
  },
  {
   "cell_type": "code",
   "execution_count": 65,
   "metadata": {},
   "outputs": [],
   "source": [
    "def selenium_extractor_starters(URL):\n",
    "    \n",
    "    options = Options()\n",
    "    options.add_argument(\"--headless\") \n",
    "    driver = webdriver.Chrome(options=options)\n",
    "    driver.get(URL)\n",
    "    \n",
    "    element_starters = driver.find_elements(By.TAG_NAME, \"tbody\")\n",
    "    player_stats_starters = element_starters[1].text\n",
    "    \n",
    "    return player_stats_starters"
   ]
  },
  {
   "cell_type": "code",
   "execution_count": 66,
   "metadata": {},
   "outputs": [],
   "source": [
    "def dictionary_creator(boxscore_section):\n",
    "\n",
    "  player_stats_splitted = boxscore_section.split(\"\\n\")\n",
    "\n",
    "  for i in range(0, len(player_stats_splitted), 3):\n",
    "    player_stats_splitted[i+2] = player_stats_splitted[i+2].split(\" \")\n",
    "      \n",
    "  flattened_list = flatten_and_append(player_stats_splitted)\n",
    "  starters = {f\"starter_{i + 1}\": flattened_list[i:i+24] for i in range(0, len(flattened_list), 24)}\n",
    "\n",
    "  return starters"
   ]
  },
  {
   "cell_type": "code",
   "execution_count": 67,
   "metadata": {},
   "outputs": [],
   "source": [
    "boxscore = soup.find_all(\"table\")[1]\n",
    "column_names = []\n",
    "headers = boxscore.find(\"thead\").findAll(\"th\")\n",
    "\n",
    "for th in headers:\n",
    "    column_names.append(th.text.strip())\n",
    "column_names = column_names[:24]"
   ]
  },
  {
   "cell_type": "code",
   "execution_count": 68,
   "metadata": {},
   "outputs": [],
   "source": [
    "player_stats_starters = dictionary_creator(selenium_extractor_starters(\"https://fibalivestats.dcd.shared.geniussports.com/u/ABE/2310604/bs.html#ASFSK\"))\n",
    "player_stats_bench = dictionary_creator(selenium_extractor_bench(\"https://fibalivestats.dcd.shared.geniussports.com/u/ABE/2310604/bs.html#ASFSK\"))"
   ]
  },
  {
   "cell_type": "code",
   "execution_count": 72,
   "metadata": {},
   "outputs": [],
   "source": [
    "import pandas as pd\n",
    "df = pd.DataFrame(columns= column_names)\n",
    "\n",
    "for key, value in player_stats_starters.items():\n",
    "    df.loc[len(df)] = value\n",
    "    \n",
    "for key, value in player_stats_bench.items():\n",
    "    df.loc[len(df)] = value"
   ]
  }
 ],
 "metadata": {
  "kernelspec": {
   "display_name": "personal",
   "language": "python",
   "name": "python3"
  },
  "language_info": {
   "codemirror_mode": {
    "name": "ipython",
    "version": 3
   },
   "file_extension": ".py",
   "mimetype": "text/x-python",
   "name": "python",
   "nbconvert_exporter": "python",
   "pygments_lexer": "ipython3",
   "version": "3.11.8"
  }
 },
 "nbformat": 4,
 "nbformat_minor": 2
}
